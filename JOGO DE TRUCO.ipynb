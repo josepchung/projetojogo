{
 "cells": [
  {
   "cell_type": "code",
   "execution_count": 29,
   "metadata": {},
   "outputs": [],
   "source": [
    "import random\n",
    "\n",
    "\n",
    "import colorama\n",
    "from colorama import Fore, Style\n"
   ]
  },
  {
   "cell_type": "code",
   "execution_count": null,
   "metadata": {},
   "outputs": [],
   "source": []
  },
  {
   "cell_type": "code",
   "execution_count": 30,
   "metadata": {},
   "outputs": [],
   "source": [
    "# LISTAS COM CARTAS E NAIPES \n"
   ]
  },
  {
   "cell_type": "code",
   "execution_count": 31,
   "metadata": {},
   "outputs": [],
   "source": [
    "cartas = ['A', \"2\", '3', 'J', \"Q\", \"K\"]\n",
    "simbolos=[\"ouros\", \"espada\", \"copas\", \"paus\"]\n",
    "\n"
   ]
  },
  {
   "cell_type": "code",
   "execution_count": 32,
   "metadata": {},
   "outputs": [],
   "source": [
    "#COMBINACAO DE CARTAS DO TRUCO COM NAIPES \n",
    "\n"
   ]
  },
  {
   "cell_type": "code",
   "execution_count": 33,
   "metadata": {},
   "outputs": [],
   "source": [
    "baralho_do_truco=[]\n",
    "\n",
    "for a in cartas:\n",
    "    for b in simbolos:\n",
    "        baralho_do_truco.append(a + \" de \"+ b)\n",
    "    "
   ]
  },
  {
   "cell_type": "code",
   "execution_count": 34,
   "metadata": {},
   "outputs": [
    {
     "name": "stdout",
     "output_type": "stream",
     "text": [
      "['A de ouros', 'A de espada', 'A de copas', 'A de paus', '2 de ouros', '2 de espada', '2 de copas', '2 de paus', '3 de ouros', '3 de espada', '3 de copas', '3 de paus', 'J de ouros', 'J de espada', 'J de copas', 'J de paus', 'Q de ouros', 'Q de espada', 'Q de copas', 'Q de paus', 'K de ouros', 'K de espada', 'K de copas', 'K de paus']\n"
     ]
    }
   ],
   "source": [
    "print(baralho_do_truco)"
   ]
  },
  {
   "cell_type": "code",
   "execution_count": 35,
   "metadata": {},
   "outputs": [],
   "source": [
    "poderes={'A de ouros':4, 'A de espada':4, 'A de copas':4, 'A de paus':4,\n",
    "         '2 de ouros':5, '2 de espada':5, '2 de copas':5, '2 de paus':5,\n",
    "         '3 de ouros':6, '3 de espada':6, '3 de copas':6, '3 de paus':6,\n",
    "         'J de ouros':1, 'J de espada':1, 'J de copas':1, 'J de paus':1, \n",
    "         'Q de ouros':2, 'Q de espada':2, 'Q de copas':2, 'Q de paus':2, \n",
    "         'K de ouros':3, 'K de espada':3, 'K de copas':3, 'K de paus':3}"
   ]
  },
  {
   "cell_type": "code",
   "execution_count": null,
   "metadata": {},
   "outputs": [],
   "source": [
    "\n"
   ]
  },
  {
   "cell_type": "code",
   "execution_count": 36,
   "metadata": {},
   "outputs": [],
   "source": [
    "#exemplo\n",
    "\n",
    "random.shuffle(baralho_do_truco)\n",
    "\n"
   ]
  },
  {
   "cell_type": "code",
   "execution_count": 37,
   "metadata": {},
   "outputs": [],
   "source": [
    "# CRIAR UMA FUNCAO PARA EMBARALHAR. "
   ]
  },
  {
   "cell_type": "code",
   "execution_count": 40,
   "metadata": {},
   "outputs": [],
   "source": [
    "def embaralhar():\n",
    "    random.shuffle(baralho_do_truco)\n",
    "    mesa= baralho_do_truco[0]\n",
    "    player1= baralho_do_truco[1:4]\n",
    "    player2= baralho_do_truco[4:7]\n",
    "    \n",
    "    return mesa, player1, player2 \n",
    "\n",
    "\n",
    "\n",
    "\n",
    "\n",
    "    \n",
    "    "
   ]
  },
  {
   "cell_type": "code",
   "execution_count": 43,
   "metadata": {},
   "outputs": [
    {
     "name": "stdout",
     "output_type": "stream",
     "text": [
      "K de ouros\n",
      "ply1-cartas ['2 de ouros', 'J de paus', '2 de paus']\n",
      "ply2-cartas ['3 de ouros', 'A de copas', 'J de ouros']\n"
     ]
    }
   ],
   "source": [
    "mesa, p1, p2 = embaralhar()\n",
    "print(mesa)\n",
    "print(\"ply1-cartas\", p1)\n",
    "print(\"ply2-cartas\", p2)\n"
   ]
  },
  {
   "cell_type": "code",
   "execution_count": null,
   "metadata": {},
   "outputs": [],
   "source": []
  },
  {
   "cell_type": "code",
   "execution_count": null,
   "metadata": {},
   "outputs": [],
   "source": []
  },
  {
   "cell_type": "code",
   "execution_count": null,
   "metadata": {},
   "outputs": [],
   "source": []
  },
  {
   "cell_type": "code",
   "execution_count": null,
   "metadata": {},
   "outputs": [],
   "source": []
  },
  {
   "cell_type": "code",
   "execution_count": null,
   "metadata": {},
   "outputs": [],
   "source": [
    "p1_score = 0\n",
    "p2_score = 0"
   ]
  },
  {
   "cell_type": "code",
   "execution_count": 27,
   "metadata": {},
   "outputs": [],
   "source": [
    "def mao(): \n",
    "   \n",
    "    mesa, p1, p2 = embaralhar()\n",
    "    print(\"mesa-\", mesa)\n",
    "    print(\"ply1-cartas\", p1)\n",
    "    print(\"ply2-cartas\", p2)\n",
    "\n",
    "    p1_score=0\n",
    "    p2_score=0\n",
    "    \n",
    "   \n",
    "    \n",
    "    for a in range(3):       \n",
    "        print(f'Mao numero : {4-len(p1)}')\n",
    "    \n",
    "        print(\"ply1-cartas\",p1)\n",
    "        print(\"ply2-cartas\",p2)\n",
    "\n",
    "        carta1= input(\"qual carta voce quer jogar ?-  \")\n",
    "        carta2= random.choice(p2)\n",
    "        \n",
    "        print(\"ply1 jogou-\", carta1)\n",
    "        print(\"ply2 jogou-\", carta2)\n",
    "\n",
    "\n",
    "        p1.remove(carta1)\n",
    "        p2.remove(carta2)  \n",
    "    \n",
    "        if poderes[carta1] >poderes[carta2]:\n",
    "            print(\"p1 venceu a rodada\")\n",
    "            p1_score +=1\n",
    "            print(p1_score, p2_score)\n",
    "            \n",
    "\n",
    "        elif poderes[carta1] == poderes[carta2]:\n",
    "            print(\"melou\")\n",
    "            p1_score +=1\n",
    "            p2_score +=1\n",
    "            print(p1_score, p2_score)\n",
    "\n",
    "        else :\n",
    "            print(\"p2 venceu a rodada\")\n",
    "            p2_score +=1\n",
    "            print(p1_score, p2_score)\n",
    " \n",
    "\n",
    "\n",
    "    \n",
    "    if p1_score > p2_score:\n",
    "        print(Fore.BLUE + \"Voce venceu a mao\")\n",
    "   \n",
    "        \n",
    "    else :\n",
    "        print(Fore.BLUE + \"P2 venceu a mao\")\n",
    "      \n",
    "        \n",
    "    \n",
    "    \n",
    "    \n",
    "    \n",
    "    "
   ]
  },
  {
   "cell_type": "code",
   "execution_count": 44,
   "metadata": {},
   "outputs": [
    {
     "name": "stdout",
     "output_type": "stream",
     "text": [
      "mesa- Q de espada\n",
      "ply1-cartas ['K de espada', 'K de ouros', 'K de paus']\n",
      "ply2-cartas ['A de copas', 'Q de copas', '2 de espada']\n",
      "Mao numero : 1\n",
      "ply1-cartas ['K de espada', 'K de ouros', 'K de paus']\n",
      "ply2-cartas ['A de copas', 'Q de copas', '2 de espada']\n",
      "qual carta voce quer jogar ?-  K de espada\n",
      "ply1 jogou- K de espada\n",
      "ply2 jogou- A de copas\n",
      "p2 venceu a rodada\n",
      "0 1\n",
      "Mao numero : 2\n",
      "ply1-cartas ['K de ouros', 'K de paus']\n",
      "ply2-cartas ['Q de copas', '2 de espada']\n",
      "qual carta voce quer jogar ?-  K de ouros\n",
      "ply1 jogou- K de ouros\n",
      "ply2 jogou- Q de copas\n",
      "p1 venceu a rodada\n",
      "1 1\n",
      "Mao numero : 3\n",
      "ply1-cartas ['K de paus']\n",
      "ply2-cartas ['2 de espada']\n",
      "qual carta voce quer jogar ?-  K de paus\n",
      "ply1 jogou- K de paus\n",
      "ply2 jogou- 2 de espada\n",
      "p2 venceu a rodada\n",
      "1 2\n",
      "\u001b[34mP2 venceu a mao\n"
     ]
    }
   ],
   "source": [
    "\n",
    "mao()"
   ]
  },
  {
   "cell_type": "code",
   "execution_count": null,
   "metadata": {},
   "outputs": [],
   "source": []
  },
  {
   "cell_type": "code",
   "execution_count": null,
   "metadata": {},
   "outputs": [],
   "source": [
    "\n"
   ]
  },
  {
   "cell_type": "code",
   "execution_count": null,
   "metadata": {},
   "outputs": [],
   "source": [
    "\n",
    "              "
   ]
  },
  {
   "cell_type": "code",
   "execution_count": 19,
   "metadata": {},
   "outputs": [],
   "source": [
    "\n",
    "    \n",
    "    "
   ]
  },
  {
   "cell_type": "code",
   "execution_count": null,
   "metadata": {},
   "outputs": [],
   "source": []
  },
  {
   "cell_type": "markdown",
   "metadata": {},
   "source": []
  },
  {
   "cell_type": "code",
   "execution_count": null,
   "metadata": {},
   "outputs": [],
   "source": []
  },
  {
   "cell_type": "code",
   "execution_count": null,
   "metadata": {},
   "outputs": [],
   "source": []
  },
  {
   "cell_type": "code",
   "execution_count": null,
   "metadata": {},
   "outputs": [],
   "source": []
  },
  {
   "cell_type": "code",
   "execution_count": null,
   "metadata": {},
   "outputs": [],
   "source": []
  },
  {
   "cell_type": "code",
   "execution_count": null,
   "metadata": {},
   "outputs": [],
   "source": []
  },
  {
   "cell_type": "code",
   "execution_count": 25,
   "metadata": {},
   "outputs": [],
   "source": [
    "\n",
    "def mao(): \n",
    "   \n",
    "    mesa, p1, p2 = embaralhar()\n",
    "    print(\"mesa-\", mesa)\n",
    "    print(\"ply1-cartas\", p1)\n",
    "    print(\"ply2-cartas\", p2)\n",
    "\n",
    "    p1_score=0\n",
    "    p2_score=0\n",
    "    \n",
    "   \n",
    "    \n",
    "    for a in range(3):       \n",
    "        print(f'Mao numero : {4-len(p1)}')\n",
    "    \n",
    "        print(\"ply1-cartas\",p1)\n",
    "        print(\"ply2-cartas\",p2)\n",
    "\n",
    "        carta1= random.choice(p1)\n",
    "        carta2= random.choice(p2)\n",
    "        print(\"ply1 jogou-\", carta1)\n",
    "        print(\"ply2 jogou-\", carta2)\n",
    "\n",
    "\n",
    "        p1.remove(carta1)\n",
    "        p2.remove(carta2)  \n",
    "    \n",
    "        if poderes[carta1] >poderes[carta2]:\n",
    "            print(\"p1 venceu a rodada\")\n",
    "            p1_score +=1\n",
    "            print(p1_score, p2_score)\n",
    "            \n",
    "\n",
    "        elif poderes[carta1] == poderes[carta2]:\n",
    "            print(\"melou\")\n",
    "            p1_score +=1\n",
    "            p2_score +=1\n",
    "            print(p1_score, p2_score)\n",
    "\n",
    "        else :\n",
    "            print(\"p2 venceu a rodada\")\n",
    "            p2_score +=1\n",
    "            print(p1_score, p2_score)\n",
    " \n",
    "\n",
    "\n",
    "    \n",
    "    if p1_score > p2_score:\n",
    "        print(Fore.BLUE + \"P1 venceu a mao\")\n",
    "   \n",
    "        \n",
    "    else :\n",
    "        print(Fore.BLUE + \"P2 venceu a mao\")\n",
    "      \n",
    "        \n"
   ]
  },
  {
   "cell_type": "code",
   "execution_count": 26,
   "metadata": {},
   "outputs": [
    {
     "name": "stdout",
     "output_type": "stream",
     "text": [
      "mesa- 2 de paus\n",
      "ply1-cartas ['3 de copas', 'Q de espada', 'K de copas']\n",
      "ply2-cartas ['K de ouros', 'A de ouros', '2 de espada']\n",
      "Mao numero : 1\n",
      "ply1-cartas ['3 de copas', 'Q de espada', 'K de copas']\n",
      "ply2-cartas ['K de ouros', 'A de ouros', '2 de espada']\n",
      "ply1 jogou- Q de espada\n",
      "ply2 jogou- K de ouros\n",
      "p2 venceu a rodada\n",
      "0 1\n",
      "Mao numero : 2\n",
      "ply1-cartas ['3 de copas', 'K de copas']\n",
      "ply2-cartas ['A de ouros', '2 de espada']\n",
      "ply1 jogou- 3 de copas\n",
      "ply2 jogou- 2 de espada\n",
      "p1 venceu a rodada\n",
      "1 1\n",
      "Mao numero : 3\n",
      "ply1-cartas ['K de copas']\n",
      "ply2-cartas ['A de ouros']\n",
      "ply1 jogou- K de copas\n",
      "ply2 jogou- A de ouros\n",
      "p2 venceu a rodada\n",
      "1 2\n",
      "\u001b[34mP2 venceu a mao\n"
     ]
    }
   ],
   "source": [
    "mao()"
   ]
  },
  {
   "cell_type": "code",
   "execution_count": null,
   "metadata": {},
   "outputs": [],
   "source": []
  }
 ],
 "metadata": {
  "kernelspec": {
   "display_name": "Python 3",
   "language": "python",
   "name": "python3"
  },
  "language_info": {
   "codemirror_mode": {
    "name": "ipython",
    "version": 3
   },
   "file_extension": ".py",
   "mimetype": "text/x-python",
   "name": "python",
   "nbconvert_exporter": "python",
   "pygments_lexer": "ipython3",
   "version": "3.7.6"
  }
 },
 "nbformat": 4,
 "nbformat_minor": 4
}
