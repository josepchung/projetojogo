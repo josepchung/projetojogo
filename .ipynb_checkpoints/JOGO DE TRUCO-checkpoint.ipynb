{
 "cells": [
  {
   "cell_type": "code",
   "execution_count": 78,
   "metadata": {},
   "outputs": [],
   "source": [
    "import random\n",
    "\n",
    "import colorama\n",
    "from colorama import Fore, Style\n"
   ]
  },
  {
   "cell_type": "code",
   "execution_count": 4,
   "metadata": {},
   "outputs": [],
   "source": [
    "cartas = ['A', \"2\", '3', 'J', \"Q\", \"K\"]\n",
    "simbolos=[\"ouros\", \"espada\", \"copas\", \"paus\"]\n",
    "\n"
   ]
  },
  {
   "cell_type": "code",
   "execution_count": 5,
   "metadata": {},
   "outputs": [],
   "source": [
    "baralho_do_truco=[]\n",
    "\n",
    "for a in cartas:\n",
    "    for b in simbolos:\n",
    "        baralho_do_truco.append(a + \" de \"+ b)\n",
    "    "
   ]
  },
  {
   "cell_type": "code",
   "execution_count": 6,
   "metadata": {},
   "outputs": [
    {
     "name": "stdout",
     "output_type": "stream",
     "text": [
      "['A de ouros', 'A de espada', 'A de copas', 'A de paus', '2 de ouros', '2 de espada', '2 de copas', '2 de paus', '3 de ouros', '3 de espada', '3 de copas', '3 de paus', 'J de ouros', 'J de espada', 'J de copas', 'J de paus', 'Q de ouros', 'Q de espada', 'Q de copas', 'Q de paus', 'K de ouros', 'K de espada', 'K de copas', 'K de paus']\n"
     ]
    }
   ],
   "source": [
    "print(baralho_do_truco)"
   ]
  },
  {
   "cell_type": "code",
   "execution_count": 7,
   "metadata": {},
   "outputs": [],
   "source": [
    "poderes={'A de ouros':4, 'A de espada':4, 'A de copas':4, 'A de paus':4,\n",
    "         '2 de ouros':5, '2 de espada':5, '2 de copas':5, '2 de paus':5,\n",
    "         '3 de ouros':6, '3 de espada':6, '3 de copas':6, '3 de paus':6,\n",
    "         'J de ouros':1, 'J de espada':1, 'J de copas':1, 'J de paus':1, \n",
    "         'Q de ouros':2, 'Q de espada':2, 'Q de copas':2, 'Q de paus':2, \n",
    "         'K de ouros':3, 'K de espada':3, 'K de copas':3, 'K de paus':3}"
   ]
  },
  {
   "cell_type": "code",
   "execution_count": null,
   "metadata": {},
   "outputs": [],
   "source": [
    "\n"
   ]
  },
  {
   "cell_type": "code",
   "execution_count": 8,
   "metadata": {},
   "outputs": [],
   "source": [
    "#exemplo\n",
    "\n",
    "random.shuffle(baralho_do_truco)\n",
    "\n"
   ]
  },
  {
   "cell_type": "code",
   "execution_count": null,
   "metadata": {},
   "outputs": [],
   "source": []
  },
  {
   "cell_type": "code",
   "execution_count": 9,
   "metadata": {},
   "outputs": [],
   "source": [
    "def embaralhar():\n",
    "    random.shuffle(baralho_do_truco)\n",
    "    mesa= baralho_do_truco[0]\n",
    "    player1= baralho_do_truco[1:4]\n",
    "    player2= baralho_do_truco[4:7]\n",
    "    \n",
    "    return mesa, player1, player2 \n",
    "\n",
    "\n",
    "\n",
    "\n",
    "\n",
    "    \n",
    "    "
   ]
  },
  {
   "cell_type": "code",
   "execution_count": 19,
   "metadata": {},
   "outputs": [
    {
     "name": "stdout",
     "output_type": "stream",
     "text": [
      "J de ouros\n",
      "ply1-cartas ['K de ouros', '2 de ouros', 'Q de espada']\n",
      "ply2-cartas ['2 de paus', 'K de copas', '2 de copas']\n"
     ]
    }
   ],
   "source": [
    "mesa, p1, p2 = embaralhar()\n",
    "print(mesa)\n",
    "print(\"ply1-cartas\", p1)\n",
    "print(\"ply2-cartas\", p2)"
   ]
  },
  {
   "cell_type": "code",
   "execution_count": 11,
   "metadata": {},
   "outputs": [],
   "source": [
    "p1_score = 0\n",
    "p2_score = 0"
   ]
  },
  {
   "cell_type": "code",
   "execution_count": 86,
   "metadata": {},
   "outputs": [],
   "source": [
    "def mao(): \n",
    "   \n",
    "    mesa, p1, p2 = embaralhar()\n",
    "    print(\"mesa-\", mesa)\n",
    "    print(\"ply1-cartas\", p1)\n",
    "    print(\"ply2-cartas\", p2)\n",
    "\n",
    "    p1_score=0\n",
    "    p2_score=0\n",
    "    \n",
    "   \n",
    "    \n",
    "    for a in range(3):       \n",
    "        print(f'Mao numero : {4-len(p1)}')\n",
    "    \n",
    "        print(\"ply1-cartas\",p1)\n",
    "        print(\"ply2-cartas\",p2)\n",
    "\n",
    "        carta1= random.choice(p1)\n",
    "        carta2= random.choice(p2)\n",
    "        print(\"ply1 jogou-\", carta1)\n",
    "        print(\"ply2 jogou-\", carta2)\n",
    "\n",
    "\n",
    "        p1.remove(carta1)\n",
    "        p2.remove(carta2)  \n",
    "    \n",
    "        if poderes[carta1] >poderes[carta2]:\n",
    "            print(\"p1 venceu a rodada\")\n",
    "            p1_score +=1\n",
    "            print(p1_score, p2_score)\n",
    "            \n",
    "\n",
    "        elif poderes[carta1] == poderes[carta2]:\n",
    "            print(\"melou\")\n",
    "            p1_score +=1\n",
    "            p2_score +=1\n",
    "            print(p1_score, p2_score)\n",
    "\n",
    "        else :\n",
    "            print(\"p2 venceu a rodada\")\n",
    "            p2_score +=1\n",
    "            print(p1_score, p2_score)\n",
    " \n",
    "\n",
    "\n",
    "    \n",
    "    if p1_score > p2_score:\n",
    "        print(Fore.BLUE + \"P1 venceu a mao\")\n",
    "   \n",
    "        \n",
    "    else :\n",
    "        print(Fore.BLUE + \"P2 venceu a mao\")\n",
    "      \n",
    "        \n",
    "    \n",
    "    \n",
    "    \n",
    "    \n",
    "    "
   ]
  },
  {
   "cell_type": "code",
   "execution_count": null,
   "metadata": {},
   "outputs": [],
   "source": []
  },
  {
   "cell_type": "code",
   "execution_count": 87,
   "metadata": {},
   "outputs": [
    {
     "name": "stdout",
     "output_type": "stream",
     "text": [
      "mesa- 2 de espada\n",
      "ply1-cartas ['2 de copas', 'J de ouros', 'A de copas']\n",
      "ply2-cartas ['K de ouros', 'Q de espada', 'K de espada']\n",
      "Mao numero : 1\n",
      "ply1-cartas ['2 de copas', 'J de ouros', 'A de copas']\n",
      "ply2-cartas ['K de ouros', 'Q de espada', 'K de espada']\n",
      "ply1 jogou- 2 de copas\n",
      "ply2 jogou- K de ouros\n",
      "p1 venceu a rodada\n",
      "1 0\n",
      "Mao numero : 2\n",
      "ply1-cartas ['J de ouros', 'A de copas']\n",
      "ply2-cartas ['Q de espada', 'K de espada']\n",
      "ply1 jogou- J de ouros\n",
      "ply2 jogou- K de espada\n",
      "p2 venceu a rodada\n",
      "1 1\n",
      "Mao numero : 3\n",
      "ply1-cartas ['A de copas']\n",
      "ply2-cartas ['Q de espada']\n",
      "ply1 jogou- A de copas\n",
      "ply2 jogou- Q de espada\n",
      "p1 venceu a rodada\n",
      "2 1\n",
      "\u001b[34mP1 venceu a mao\n"
     ]
    }
   ],
   "source": [
    "mao()"
   ]
  },
  {
   "cell_type": "code",
   "execution_count": null,
   "metadata": {},
   "outputs": [],
   "source": [
    "\n"
   ]
  },
  {
   "cell_type": "code",
   "execution_count": null,
   "metadata": {},
   "outputs": [],
   "source": []
  },
  {
   "cell_type": "code",
   "execution_count": null,
   "metadata": {},
   "outputs": [],
   "source": []
  },
  {
   "cell_type": "code",
   "execution_count": null,
   "metadata": {},
   "outputs": [],
   "source": []
  },
  {
   "cell_type": "code",
   "execution_count": null,
   "metadata": {},
   "outputs": [],
   "source": []
  },
  {
   "cell_type": "code",
   "execution_count": null,
   "metadata": {},
   "outputs": [],
   "source": []
  },
  {
   "cell_type": "code",
   "execution_count": null,
   "metadata": {},
   "outputs": [],
   "source": []
  },
  {
   "cell_type": "code",
   "execution_count": null,
   "metadata": {},
   "outputs": [],
   "source": []
  },
  {
   "cell_type": "code",
   "execution_count": null,
   "metadata": {},
   "outputs": [],
   "source": []
  },
  {
   "cell_type": "code",
   "execution_count": null,
   "metadata": {},
   "outputs": [],
   "source": []
  }
 ],
 "metadata": {
  "kernelspec": {
   "display_name": "Python 3",
   "language": "python",
   "name": "python3"
  },
  "language_info": {
   "codemirror_mode": {
    "name": "ipython",
    "version": 3
   },
   "file_extension": ".py",
   "mimetype": "text/x-python",
   "name": "python",
   "nbconvert_exporter": "python",
   "pygments_lexer": "ipython3",
   "version": "3.7.6"
  }
 },
 "nbformat": 4,
 "nbformat_minor": 4
}
